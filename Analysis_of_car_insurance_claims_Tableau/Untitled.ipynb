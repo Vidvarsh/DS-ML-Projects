{
 "cells": [
  {
   "cell_type": "code",
   "execution_count": 1,
   "id": "fe453e35",
   "metadata": {},
   "outputs": [],
   "source": [
    "import numpy as np\n",
    "import pandas as pd\n",
    "import matplotlib.pyplot as plt\n",
    "import seaborn as sns"
   ]
  },
  {
   "cell_type": "code",
   "execution_count": 3,
   "id": "c10e8292",
   "metadata": {},
   "outputs": [],
   "source": [
    "df=pd.read_excel('Car+claims+for+insurance.xlsx')"
   ]
  },
  {
   "cell_type": "code",
   "execution_count": 4,
   "id": "07a7b9a2",
   "metadata": {},
   "outputs": [
    {
     "data": {
      "text/plain": [
       "(7647, 21)"
      ]
     },
     "execution_count": 4,
     "metadata": {},
     "output_type": "execute_result"
    }
   ],
   "source": [
    "df.shape\n"
   ]
  },
  {
   "cell_type": "code",
   "execution_count": 5,
   "id": "f2170ffe",
   "metadata": {},
   "outputs": [
    {
     "name": "stdout",
     "output_type": "stream",
     "text": [
      "<class 'pandas.core.frame.DataFrame'>\n",
      "RangeIndex: 7647 entries, 0 to 7646\n",
      "Data columns (total 21 columns):\n",
      " #   Column      Non-Null Count  Dtype         \n",
      "---  ------      --------------  -----         \n",
      " 0   ID          7647 non-null   int64         \n",
      " 1   KIDSDRIV    7647 non-null   int64         \n",
      " 2   BIRTH       7647 non-null   datetime64[ns]\n",
      " 3   HOMEKIDS    7647 non-null   int64         \n",
      " 4   YOJ         7647 non-null   int64         \n",
      " 5   INCOME      7647 non-null   int64         \n",
      " 6   PARENT1     7647 non-null   object        \n",
      " 7   HOME_VAL    7647 non-null   int64         \n",
      " 8   MSTATUS     7647 non-null   object        \n",
      " 9   GENDER      7647 non-null   object        \n",
      " 10  EDUCATION   7647 non-null   object        \n",
      " 11  OCCUPATION  7647 non-null   object        \n",
      " 12  TRAVTIME    7647 non-null   int64         \n",
      " 13  CAR_USE     7647 non-null   object        \n",
      " 14  BLUEBOOK    7647 non-null   int64         \n",
      " 15  CAR_TYPE    7647 non-null   object        \n",
      " 16  OLDCLAIM    7647 non-null   int64         \n",
      " 17  CLM_FREQ    7647 non-null   int64         \n",
      " 18  CLM_AMT     7647 non-null   int64         \n",
      " 19  CAR_AGE     7647 non-null   int64         \n",
      " 20  URBANICITY  7647 non-null   object        \n",
      "dtypes: datetime64[ns](1), int64(12), object(8)\n",
      "memory usage: 1.2+ MB\n"
     ]
    }
   ],
   "source": [
    "df.info()"
   ]
  },
  {
   "cell_type": "code",
   "execution_count": null,
   "id": "35e5d159",
   "metadata": {},
   "outputs": [],
   "source": []
  }
 ],
 "metadata": {
  "kernelspec": {
   "display_name": "Python 3 (ipykernel)",
   "language": "python",
   "name": "python3"
  },
  "language_info": {
   "codemirror_mode": {
    "name": "ipython",
    "version": 3
   },
   "file_extension": ".py",
   "mimetype": "text/x-python",
   "name": "python",
   "nbconvert_exporter": "python",
   "pygments_lexer": "ipython3",
   "version": "3.9.13"
  },
  "nbTranslate": {
   "displayLangs": [
    "*"
   ],
   "hotkey": "alt-t",
   "langInMainMenu": true,
   "sourceLang": "en",
   "targetLang": "fr",
   "useGoogleTranslate": true
  },
  "toc": {
   "base_numbering": 1,
   "nav_menu": {},
   "number_sections": true,
   "sideBar": true,
   "skip_h1_title": false,
   "title_cell": "Table of Contents",
   "title_sidebar": "Contents",
   "toc_cell": false,
   "toc_position": {},
   "toc_section_display": true,
   "toc_window_display": false
  },
  "varInspector": {
   "cols": {
    "lenName": 16,
    "lenType": 16,
    "lenVar": 40
   },
   "kernels_config": {
    "python": {
     "delete_cmd_postfix": "",
     "delete_cmd_prefix": "del ",
     "library": "var_list.py",
     "varRefreshCmd": "print(var_dic_list())"
    },
    "r": {
     "delete_cmd_postfix": ") ",
     "delete_cmd_prefix": "rm(",
     "library": "var_list.r",
     "varRefreshCmd": "cat(var_dic_list()) "
    }
   },
   "types_to_exclude": [
    "module",
    "function",
    "builtin_function_or_method",
    "instance",
    "_Feature"
   ],
   "window_display": false
  }
 },
 "nbformat": 4,
 "nbformat_minor": 5
}
